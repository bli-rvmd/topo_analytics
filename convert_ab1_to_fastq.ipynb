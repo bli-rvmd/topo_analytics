{
 "cells": [
  {
   "cell_type": "code",
   "execution_count": 40,
   "id": "8c665f78-d552-4bdf-91fc-618b4de1b455",
   "metadata": {},
   "outputs": [],
   "source": [
    "## load packages\n",
    "\n",
    "import os\n",
    "from Bio import SeqIO\n",
    "import glob"
   ]
  },
  {
   "cell_type": "code",
   "execution_count": 49,
   "id": "333390dd-5d8d-483f-922b-048b6d858cb8",
   "metadata": {},
   "outputs": [],
   "source": [
    "## runtime options\n",
    "data_dir = \"/Users/bli/Documents/Projects/TOPO_cloning_analysis/data/KPTC_ElimBio_order_861172_TOPO_cdkn2a_cic_nutlin_09192024\"\n",
    "data_folder = \"pcr_39\"\n",
    "\n",
    "n_trim_left = 20\n",
    "n_trim_right = 200"
   ]
  },
  {
   "cell_type": "code",
   "execution_count": 50,
   "id": "976fbe54-abd2-4e3a-a85f-ef3551b053cc",
   "metadata": {},
   "outputs": [],
   "source": [
    "## traverse through all *.ab1 files, consolidate and convert them into .fastq\n",
    "ab1_files = glob.glob(\"{}/{}/*.ab1\".format(data_dir, data_folder))"
   ]
  },
  {
   "cell_type": "code",
   "execution_count": 51,
   "id": "6249c5d6-d827-4adf-b7e9-35e3d9b25a3d",
   "metadata": {},
   "outputs": [],
   "source": [
    "with open(\"{}/{}.fastq\".format(data_dir, data_folder), \"w\") as fastq_output:\n",
    "    for ab1_file in ab1_files:\n",
    "        record = SeqIO.read(ab1_file, \"abi\")\n",
    "        SeqIO.write(record, fastq_output, \"fastq\")\n",
    "        "
   ]
  },
  {
   "cell_type": "code",
   "execution_count": 52,
   "id": "0c0708b5-0f55-4fa1-84b6-14b7991f02cd",
   "metadata": {},
   "outputs": [
    {
     "data": {
      "text/plain": [
       "0"
      ]
     },
     "execution_count": 52,
     "metadata": {},
     "output_type": "execute_result"
    }
   ],
   "source": [
    "## trim both ends\n",
    "os.system(\"seqtk trimfq -b {} -e {} {} > {}\".format(n_trim_left, n_trim_right, \"{}/{}.fastq\".format(data_dir, data_folder), \"{}/{}_trimmed.fastq\".format(data_dir, data_folder)))"
   ]
  },
  {
   "cell_type": "code",
   "execution_count": null,
   "id": "de9a414d-b1da-4a45-93bb-60dd91e3a7e2",
   "metadata": {},
   "outputs": [],
   "source": []
  }
 ],
 "metadata": {
  "kernelspec": {
   "display_name": "Python 3 (ipykernel)",
   "language": "python",
   "name": "python3"
  },
  "language_info": {
   "codemirror_mode": {
    "name": "ipython",
    "version": 3
   },
   "file_extension": ".py",
   "mimetype": "text/x-python",
   "name": "python",
   "nbconvert_exporter": "python",
   "pygments_lexer": "ipython3",
   "version": "3.11.8"
  }
 },
 "nbformat": 4,
 "nbformat_minor": 5
}
